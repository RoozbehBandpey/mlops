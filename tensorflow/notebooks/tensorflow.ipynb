{
 "cells": [
  {
   "cell_type": "code",
   "execution_count": 1,
   "metadata": {},
   "outputs": [],
   "source": [
    "import os\n",
    "import urllib\n",
    "import shutil\n",
    "import azureml\n",
    "\n",
    "from azureml.core import Experiment\n",
    "from azureml.core import Workspace, Run\n",
    "\n",
    "from azureml.core.compute import ComputeTarget, AmlCompute\n",
    "from azureml.core.compute_target import ComputeTargetException\n",
    "from azureml.train.dnn import TensorFlow"
   ]
  },
  {
   "cell_type": "code",
   "execution_count": 2,
   "metadata": {},
   "outputs": [],
   "source": [
    "ws = Workspace.from_config()"
   ]
  },
  {
   "cell_type": "code",
   "execution_count": 3,
   "metadata": {},
   "outputs": [
    {
     "data": {
      "text/plain": [
       "Workspace.create(name='mlopsdev', subscription_id='c46a9435-c957-4e6c-a0f4-b9a597984773', resource_group='mlops')"
      ]
     },
     "execution_count": 3,
     "metadata": {},
     "output_type": "execute_result"
    }
   ],
   "source": [
    "ws"
   ]
  },
  {
   "cell_type": "code",
   "execution_count": 4,
   "metadata": {},
   "outputs": [],
   "source": [
    "script_folder = './tf-mnist'\n",
    "os.makedirs(script_folder, exist_ok=True)\n",
    "\n",
    "exp = Experiment(workspace=ws, name='tf-mnist')"
   ]
  },
  {
   "cell_type": "code",
   "execution_count": 5,
   "metadata": {},
   "outputs": [],
   "source": [
    "from azureml.core.dataset import Dataset\n",
    "\n",
    "web_paths = [\n",
    "            'http://yann.lecun.com/exdb/mnist/train-images-idx3-ubyte.gz',\n",
    "            'http://yann.lecun.com/exdb/mnist/train-labels-idx1-ubyte.gz',\n",
    "            'http://yann.lecun.com/exdb/mnist/t10k-images-idx3-ubyte.gz',\n",
    "            'http://yann.lecun.com/exdb/mnist/t10k-labels-idx1-ubyte.gz'\n",
    "            ]\n",
    "dataset = Dataset.File.from_files(path=web_paths)"
   ]
  },
  {
   "cell_type": "code",
   "execution_count": 6,
   "metadata": {},
   "outputs": [
    {
     "data": {
      "text/plain": [
       "['/http/yann.lecun.com/exdb/mnist/train-images-idx3-ubyte.gz',\n",
       " '/http/yann.lecun.com/exdb/mnist/train-labels-idx1-ubyte.gz',\n",
       " '/http/yann.lecun.com/exdb/mnist/t10k-images-idx3-ubyte.gz',\n",
       " '/http/yann.lecun.com/exdb/mnist/t10k-labels-idx1-ubyte.gz']"
      ]
     },
     "execution_count": 6,
     "metadata": {},
     "output_type": "execute_result"
    }
   ],
   "source": [
    "dataset = dataset.register(workspace=ws,\n",
    "                           name='mnist dataset',\n",
    "                           description='training and test dataset',\n",
    "                           create_new_version=True)\n",
    "\n",
    "# list the files referenced by dataset\n",
    "dataset.to_path()"
   ]
  },
  {
   "cell_type": "code",
   "execution_count": 7,
   "metadata": {},
   "outputs": [
    {
     "name": "stdout",
     "output_type": "stream",
     "text": [
      "Found existing compute target\n"
     ]
    }
   ],
   "source": [
    "cluster_name = \"cpucluster\"\n",
    "\n",
    "try:\n",
    "    compute_target = ComputeTarget(workspace=ws, name=cluster_name)\n",
    "    print('Found existing compute target')\n",
    "except ComputeTargetException:\n",
    "    print('Creating a new compute target...')\n",
    "    compute_config = AmlCompute.provisioning_configuration(vm_size='STANDARD_NC6', \n",
    "                                                           max_nodes=4)\n",
    "\n",
    "    compute_target = ComputeTarget.create(ws, cluster_name, compute_config)\n",
    "\n",
    "    compute_target.wait_for_completion(show_output=True, min_node_count=None, timeout_in_minutes=20)"
   ]
  },
  {
   "cell_type": "code",
   "execution_count": 10,
   "metadata": {},
   "outputs": [
    {
     "name": "stderr",
     "output_type": "stream",
     "text": [
      "WARNING - framework_version is not specified, defaulting to version 1.13.\n",
      "WARNING - You have specified to install packages in your run. Note that you have overridden Azure ML's installation of the following packages: ['azureml-dataprep']. We cannot guarantee image build will succeed.\n"
     ]
    }
   ],
   "source": [
    "script_params = {\n",
    "    '--data-folder': dataset.as_named_input('mnist').as_mount(),\n",
    "    '--batch-size': 50,\n",
    "    '--first-layer-neurons': 300,\n",
    "    '--second-layer-neurons': 100,\n",
    "    '--learning-rate': 0.01\n",
    "}\n",
    "\n",
    "est = TensorFlow(source_directory=script_folder,\n",
    "                 entry_script='tf_mnist.py',\n",
    "                 script_params=script_params,\n",
    "                 compute_target=compute_target,\n",
    "                 use_gpu=True,\n",
    "                 pip_packages=['azureml-dataprep[pandas,fuse]'])"
   ]
  },
  {
   "cell_type": "code",
   "execution_count": null,
   "metadata": {},
   "outputs": [
    {
     "name": "stdout",
     "output_type": "stream",
     "text": [
      "RunId: tf-mnist_1594509148_14868b1e\n",
      "Web View: https://ml.azure.com/experiments/tf-mnist/runs/tf-mnist_1594509148_14868b1e?wsid=/subscriptions/c46a9435-c957-4e6c-a0f4-b9a597984773/resourcegroups/mlops/workspaces/mlopsdev\n",
      "\n",
      "Streaming azureml-logs/20_image_build_log.txt\n",
      "=============================================\n",
      "\n",
      "2020/07/11 23:12:37 Downloading source code...\n",
      "2020/07/11 23:12:38 Finished downloading source code\n",
      "2020/07/11 23:12:38 Creating Docker network: acb_default_network, driver: 'bridge'\n",
      "2020/07/11 23:12:39 Successfully set up Docker network: acb_default_network\n",
      "2020/07/11 23:12:39 Setting up Docker configuration...\n",
      "2020/07/11 23:12:40 Successfully set up Docker configuration\n",
      "2020/07/11 23:12:40 Logging in to registry: mlopsdev82752047.azurecr.io\n",
      "2020/07/11 23:12:41 Successfully logged into mlopsdev82752047.azurecr.io\n",
      "2020/07/11 23:12:41 Executing step ID: acb_step_0. Timeout(sec): 5400, Working directory: '', Network: 'acb_default_network'\n",
      "2020/07/11 23:12:41 Scanning for dependencies...\n",
      "2020/07/11 23:12:41 Successfully scanned dependencies\n",
      "2020/07/11 23:12:41 Launching container with name: acb_step_0\n",
      "Sending build context to Docker daemon  60.93kB\n",
      "\n",
      "Step 1/14 : FROM mcr.microsoft.com/azureml/base-gpu:intelmpi2018.3-cuda10.0-cudnn7-ubuntu16.04@sha256:85cbe68aa7d55ec4f3739fcc3fe04d9c49641700b4ce31d04e1a8bf7bc66acf1\n",
      "sha256:85cbe68aa7d55ec4f3739fcc3fe04d9c49641700b4ce31d04e1a8bf7bc66acf1: Pulling from azureml/base-gpu\n",
      "f7277927d38a: Pulling fs layer\n",
      "8d3eac894db4: Pulling fs layer\n",
      "edf72af6d627: Pulling fs layer\n",
      "3e4f86211d23: Pulling fs layer\n",
      "d6e9603ff777: Pulling fs layer\n",
      "5cad422780e2: Pulling fs layer\n",
      "8130687c8acb: Pulling fs layer\n",
      "c11e9246d621: Pulling fs layer\n",
      "0dfae24cbbd9: Pulling fs layer\n",
      "0bb049a6d391: Pulling fs layer\n",
      "22a53069998a: Pulling fs layer\n",
      "db550b9db251: Pulling fs layer\n",
      "10a826755d7e: Pulling fs layer\n",
      "457c96476eac: Pulling fs layer\n",
      "e2d7418d62ad: Pulling fs layer\n",
      "a0d6fa61e0b7: Pulling fs layer\n",
      "93f75153ba2d: Pulling fs layer\n",
      "d6e9603ff777: Waiting\n",
      "5cad422780e2: Waiting\n",
      "8130687c8acb: Waiting\n",
      "c11e9246d621: Waiting\n",
      "0dfae24cbbd9: Waiting\n",
      "0bb049a6d391: Waiting\n",
      "22a53069998a: Waiting\n",
      "db550b9db251: Waiting\n",
      "10a826755d7e: Waiting\n",
      "457c96476eac: Waiting\n",
      "e2d7418d62ad: Waiting\n",
      "a0d6fa61e0b7: Waiting\n",
      "93f75153ba2d: Waiting\n",
      "3e4f86211d23: Waiting\n",
      "edf72af6d627: Verifying Checksum\n",
      "edf72af6d627: Download complete\n",
      "8d3eac894db4: Verifying Checksum\n",
      "8d3eac894db4: Download complete\n",
      "3e4f86211d23: Verifying Checksum\n",
      "3e4f86211d23: Download complete\n",
      "d6e9603ff777: Verifying Checksum\n",
      "d6e9603ff777: Download complete\n",
      "5cad422780e2: Verifying Checksum\n",
      "5cad422780e2: Download complete\n",
      "f7277927d38a: Verifying Checksum\n",
      "f7277927d38a: Download complete\n",
      "8130687c8acb: Verifying Checksum\n",
      "8130687c8acb: Download complete\n",
      "c11e9246d621: Verifying Checksum\n",
      "c11e9246d621: Download complete\n",
      "f7277927d38a: Pull complete\n",
      "8d3eac894db4: Pull complete\n",
      "22a53069998a: Verifying Checksum\n",
      "22a53069998a: Download complete\n",
      "edf72af6d627: Pull complete\n",
      "3e4f86211d23: Pull complete\n",
      "0bb049a6d391: Verifying Checksum\n",
      "0bb049a6d391: Download complete\n",
      "0dfae24cbbd9: Verifying Checksum\n",
      "0dfae24cbbd9: Download complete\n",
      "d6e9603ff777: Pull complete\n",
      "10a826755d7e: Verifying Checksum\n",
      "10a826755d7e: Download complete\n",
      "db550b9db251: Verifying Checksum\n",
      "db550b9db251: Download complete\n",
      "5cad422780e2: Pull complete\n",
      "a0d6fa61e0b7: Verifying Checksum\n",
      "a0d6fa61e0b7: Download complete\n",
      "8130687c8acb: Pull complete\n",
      "93f75153ba2d: Verifying Checksum\n",
      "93f75153ba2d: Download complete\n",
      "457c96476eac: Verifying Checksum\n",
      "457c96476eac: Download complete\n",
      "e2d7418d62ad: Verifying Checksum\n",
      "e2d7418d62ad: Download complete\n",
      "c11e9246d621: Pull complete\n",
      "0dfae24cbbd9: Pull complete\n",
      "0bb049a6d391: Pull complete\n",
      "22a53069998a: Pull complete\n",
      "db550b9db251: Pull complete\n",
      "10a826755d7e: Pull complete\n",
      "457c96476eac: Pull complete\n",
      "e2d7418d62ad: Pull complete\n",
      "a0d6fa61e0b7: Pull complete\n",
      "93f75153ba2d: Pull complete\n",
      "Digest: sha256:85cbe68aa7d55ec4f3739fcc3fe04d9c49641700b4ce31d04e1a8bf7bc66acf1\n",
      "Status: Downloaded newer image for mcr.microsoft.com/azureml/base-gpu:intelmpi2018.3-cuda10.0-cudnn7-ubuntu16.04@sha256:85cbe68aa7d55ec4f3739fcc3fe04d9c49641700b4ce31d04e1a8bf7bc66acf1\n",
      " ---> 6fb8d9173f11\n",
      "Step 2/14 : USER root\n",
      " ---> Running in c8d38bf35a06\n",
      "Removing intermediate container c8d38bf35a06\n",
      " ---> 323dfae8cc80\n",
      "Step 3/14 : RUN mkdir -p $HOME/.cache\n",
      " ---> Running in b02948a35b14\n",
      "Removing intermediate container b02948a35b14\n",
      " ---> ede414a1898b\n",
      "Step 4/14 : WORKDIR /\n",
      " ---> Running in 2d75c3ba92a6\n",
      "Removing intermediate container 2d75c3ba92a6\n",
      " ---> 24cb34de22b2\n",
      "Step 5/14 : COPY azureml-environment-setup/99brokenproxy /etc/apt/apt.conf.d/\n",
      " ---> 6415f5af9f7a\n",
      "Step 6/14 : RUN if dpkg --compare-versions `conda --version | grep -oE '[^ ]+$'` lt 4.4.11; then conda install conda==4.4.11; fi\n",
      " ---> Running in 1a2aac97f2b0\n",
      "Removing intermediate container 1a2aac97f2b0\n",
      " ---> 97de3f550fdd\n",
      "Step 7/14 : COPY azureml-environment-setup/mutated_conda_dependencies.yml azureml-environment-setup/mutated_conda_dependencies.yml\n",
      " ---> 93186faaef7b\n",
      "Step 8/14 : RUN ldconfig /usr/local/cuda/lib64/stubs && conda env create -p /azureml-envs/azureml_c0e081827c5441d25ef4420172ac8ce1 -f azureml-environment-setup/mutated_conda_dependencies.yml && rm -rf \"$HOME/.cache/pip\" && conda clean -aqy && CONDA_ROOT_DIR=$(conda info --root) && rm -rf \"$CONDA_ROOT_DIR/pkgs\" && find \"$CONDA_ROOT_DIR\" -type d -name __pycache__ -exec rm -rf {} + && ldconfig\n",
      " ---> Running in cf7d6f96abd8\n",
      "Solving environment: ...working... \n"
     ]
    }
   ],
   "source": [
    "run = exp.submit(est)\n",
    "run.wait_for_completion(show_output=True)"
   ]
  },
  {
   "cell_type": "code",
   "execution_count": null,
   "metadata": {},
   "outputs": [],
   "source": [
    "from azureml.core import Model\n",
    "from azureml.core.resource_configuration import ResourceConfiguration\n",
    "\n",
    "model = run.register_model(model_name='tf-dnn-mnist', \n",
    "                           model_path='outputs/model',\n",
    "                           model_framework=Model.Framework.TENSORFLOW,\n",
    "                           model_framework_version='1.13.0',\n",
    "                           resource_configuration=ResourceConfiguration(cpu=1, memory_in_gb=0.5))"
   ]
  },
  {
   "cell_type": "code",
   "execution_count": null,
   "metadata": {},
   "outputs": [],
   "source": [
    "# Create a model folder in the current directory\n",
    "os.makedirs('./model', exist_ok=True)\n",
    "\n",
    "for f in run.get_file_names():\n",
    "    if f.startswith('outputs/model'):\n",
    "        output_file_path = os.path.join('./model', f.split('/')[-1])\n",
    "        print('Downloading from {} to {} ...'.format(f, output_file_path))\n",
    "        run.download_file(name=f, output_file_path=output_file_path)"
   ]
  },
  {
   "cell_type": "code",
   "execution_count": null,
   "metadata": {},
   "outputs": [],
   "source": [
    "from azureml.core.runconfig import MpiConfiguration\n",
    "from azureml.train.dnn import TensorFlow\n",
    "\n",
    "# Tensorflow constructor\n",
    "estimator= TensorFlow(source_directory=project_folder,\n",
    "                      compute_target=compute_target,\n",
    "                      script_params=script_params,\n",
    "                      entry_script='script.py',\n",
    "                      node_count=2,\n",
    "                      process_count_per_node=1,\n",
    "                      distributed_training=MpiConfiguration(),\n",
    "                      framework_version='1.13',\n",
    "                      use_gpu=True,\n",
    "                      pip_packages=['azureml-dataprep[pandas,fuse]'])"
   ]
  },
  {
   "cell_type": "code",
   "execution_count": null,
   "metadata": {},
   "outputs": [],
   "source": [
    "from azureml.train.dnn import TensorFlow\n",
    "\n",
    "distributed_training = TensorflowConfiguration()\n",
    "distributed_training.worker_count = 2\n",
    "\n",
    "# Tensorflow constructor\n",
    "tf_est= TensorFlow(source_directory=project_folder,\n",
    "                      compute_target=compute_target,\n",
    "                      script_params=script_params,\n",
    "                      entry_script='script.py',\n",
    "                      node_count=2,\n",
    "                      process_count_per_node=1,\n",
    "                      distributed_training=distributed_training,\n",
    "                      use_gpu=True,\n",
    "                      pip_packages=['azureml-dataprep[pandas,fuse]'])\n",
    "\n",
    "# submit the TensorFlow job\n",
    "run = exp.submit(tf_est)"
   ]
  },
  {
   "cell_type": "code",
   "execution_count": null,
   "metadata": {},
   "outputs": [],
   "source": [
    "TF_CONFIG='{\n",
    "    \"cluster\": {\n",
    "        \"ps\": [\"host0:2222\", \"host1:2222\"],\n",
    "        \"worker\": [\"host2:2222\", \"host3:2222\", \"host4:2222\"],\n",
    "    },\n",
    "    \"task\": {\"type\": \"ps\", \"index\": 0},\n",
    "    \"environment\": \"cloud\"\n",
    "}'"
   ]
  },
  {
   "cell_type": "code",
   "execution_count": null,
   "metadata": {},
   "outputs": [],
   "source": [
    "import os, json\n",
    "import tensorflow as tf\n",
    "\n",
    "tf_config = os.environ.get('TF_CONFIG')\n",
    "if not tf_config or tf_config == \"\":\n",
    "    raise ValueError(\"TF_CONFIG not found.\")\n",
    "tf_config_json = json.loads(tf_config)\n",
    "cluster_spec = tf.train.ClusterSpec(cluster)"
   ]
  },
  {
   "cell_type": "code",
   "execution_count": null,
   "metadata": {},
   "outputs": [],
   "source": [
    "service = Model.deploy(ws, \"tensorflow-web-service\", [model])"
   ]
  }
 ],
 "metadata": {
  "kernelspec": {
   "display_name": "Python 3.6 - AzureML",
   "language": "python",
   "name": "python3-azureml"
  },
  "language_info": {
   "codemirror_mode": {
    "name": "ipython",
    "version": 3
   },
   "file_extension": ".py",
   "mimetype": "text/x-python",
   "name": "python",
   "nbconvert_exporter": "python",
   "pygments_lexer": "ipython3",
   "version": "3.6.9"
  }
 },
 "nbformat": 4,
 "nbformat_minor": 4
}
