{
 "cells": [
  {
   "cell_type": "code",
   "execution_count": 50,
   "metadata": {},
   "outputs": [],
   "source": [
    "import os\n",
    "import urllib\n",
    "import shutil\n",
    "import azureml\n",
    "\n",
    "from azureml.core import Experiment\n",
    "from azureml.core import Workspace, Run\n",
    "\n",
    "from azureml.core.compute import ComputeTarget, AmlCompute\n",
    "from azureml.core.compute_target import ComputeTargetException\n",
    "from azureml.train.dnn import TensorFlow"
   ]
  },
  {
   "cell_type": "code",
   "execution_count": 51,
   "metadata": {},
   "outputs": [
    {
     "name": "stdout",
     "output_type": "stream",
     "text": [
      "2.2.0\n"
     ]
    }
   ],
   "source": [
    "import tensorflow as tf\n",
    "print(tf.__version__)"
   ]
  },
  {
   "cell_type": "code",
   "execution_count": 45,
   "metadata": {},
   "outputs": [
    {
     "name": "stdout",
     "output_type": "stream",
     "text": [
      "\u001b[31mERROR: Could not find a version that satisfies the requirement PIL (from versions: none)\u001b[0m\n",
      "\u001b[31mERROR: No matching distribution found for PIL\u001b[0m\n"
     ]
    }
   ],
   "source": [
    "!pip install image"
   ]
  },
  {
   "cell_type": "code",
   "execution_count": 52,
   "metadata": {},
   "outputs": [],
   "source": [
    "from azureml.core import Workspace, Dataset\n",
    "\n",
    "from azureml.core.authentication import ServicePrincipalAuthentication\n",
    " \n",
    "svc_pr_password = \"1fY58u0dpP1Yg-i.A~rUp_iz04RxWUFSwv\"\n",
    " \n",
    "svc_pr = ServicePrincipalAuthentication(\n",
    "    tenant_id=\"72f988bf-86f1-41af-91ab-2d7cd011db47\",\n",
    "    service_principal_id=\"8a3ddafe-6dd6-48af-867e-d745232a1833\",\n",
    "    service_principal_password=\"1fY58u0dpP1Yg-i.A~rUp_iz04RxWUFSwv\")\n",
    " \n",
    "ws = Workspace(\n",
    "    subscription_id=\"c46a9435-c957-4e6c-a0f4-b9a597984773\",\n",
    "    resource_group=\"mlops\",\n",
    "    workspace_name=\"gputraining\",\n",
    "    auth=svc_pr\n",
    "    )"
   ]
  },
  {
   "cell_type": "code",
   "execution_count": 53,
   "metadata": {},
   "outputs": [
    {
     "data": {
      "text/plain": [
       "Workspace.create(name='gputraining', subscription_id='c46a9435-c957-4e6c-a0f4-b9a597984773', resource_group='mlops')"
      ]
     },
     "execution_count": 53,
     "metadata": {},
     "output_type": "execute_result"
    }
   ],
   "source": [
    "ws"
   ]
  },
  {
   "cell_type": "code",
   "execution_count": 54,
   "metadata": {},
   "outputs": [],
   "source": [
    "from azureml.core.datastore import Datastore\n",
    "\n",
    "batchscore_blob = Datastore.register_azure_blob_container(ws, \n",
    "                      datastore_name=\"images_datastore\", \n",
    "                      container_name=\"sampledata\", \n",
    "                      account_name=\"pipelinedata\", \n",
    "                      overwrite=True)\n",
    "\n",
    "def_data_store = ws.get_default_datastore()\n",
    "\n",
    "from azureml.core.dataset import Dataset\n",
    "from azureml.pipeline.core import PipelineData\n",
    "\n",
    "input_images = Dataset.File.from_files((batchscore_blob, \"batchscoring/images/\"))\n",
    "label_ds = Dataset.File.from_files((batchscore_blob, \"batchscoring/labels/\"))\n",
    "output_dir = PipelineData(name=\"scores\", \n",
    "                          datastore=def_data_store, \n",
    "                          output_path_on_compute=\"batchscoring/results\")\n",
    "\n",
    "input_images = input_images.register(workspace = ws, name = \"input_images\")\n",
    "label_ds = label_ds.register(workspace = ws, name = \"label_ds\")"
   ]
  },
  {
   "cell_type": "code",
   "execution_count": 55,
   "metadata": {},
   "outputs": [],
   "source": [
    "from azureml.core.model import Model\n",
    "\n",
    "model = Model(ws, 'tf-dnn-mnist')"
   ]
  },
  {
   "cell_type": "code",
   "execution_count": 56,
   "metadata": {},
   "outputs": [
    {
     "data": {
      "text/plain": [
       "Model(workspace=Workspace.create(name='gputraining', subscription_id='c46a9435-c957-4e6c-a0f4-b9a597984773', resource_group='mlops'), name=tf-dnn-mnist, id=tf-dnn-mnist:5, version=5, tags={}, properties={})"
      ]
     },
     "execution_count": 56,
     "metadata": {},
     "output_type": "execute_result"
    }
   ],
   "source": [
    "model"
   ]
  },
  {
   "cell_type": "code",
   "execution_count": 57,
   "metadata": {},
   "outputs": [
    {
     "name": "stdout",
     "output_type": "stream",
     "text": [
      "azureml-models/tf-dnn-mnist/5/model\n"
     ]
    }
   ],
   "source": [
    "print(Model.get_model_path('tf-dnn-mnist',5,ws))"
   ]
  },
  {
   "cell_type": "code",
   "execution_count": 58,
   "metadata": {},
   "outputs": [],
   "source": [
    "from azureml.core.compute import AmlCompute, ComputeTarget\n",
    "from azureml.exceptions import ComputeTargetException\n",
    "compute_name = \"gpucluster1\"\n",
    "\n",
    "# checks to see if compute target already exists in workspace, else create it\n",
    "try:\n",
    "    compute_target = ComputeTarget(workspace=ws, name=compute_name)\n",
    "except ComputeTargetException:\n",
    "    config = AmlCompute.provisioning_configuration(vm_size=\"STANDARD_NC6\",\n",
    "                                                   vm_priority=\"lowpriority\", \n",
    "                                                   min_nodes=0, \n",
    "                                                   max_nodes=1)\n",
    "\n",
    "    compute_target = ComputeTarget.create(workspace=ws, name=compute_name, provisioning_configuration=config)\n",
    "    compute_target.wait_for_completion(show_output=True, min_node_count=None, timeout_in_minutes=20)"
   ]
  },
  {
   "cell_type": "code",
   "execution_count": 59,
   "metadata": {},
   "outputs": [],
   "source": [
    "from azureml.core import Environment\n",
    "from azureml.core.conda_dependencies import CondaDependencies\n",
    "from azureml.core.runconfig import DEFAULT_GPU_IMAGE\n",
    "\n",
    "cd = CondaDependencies.create(pip_packages=[\"tensorflow-gpu==1.15.2\",\n",
    "                                            \"azureml-core\", \"azureml-dataprep[fuse]\", \"image\"])\n",
    "env = Environment(name=\"parallelenv\")\n",
    "env.python.conda_dependencies = cd\n",
    "env.docker.base_image = DEFAULT_GPU_IMAGE"
   ]
  },
  {
   "cell_type": "code",
   "execution_count": 69,
   "metadata": {},
   "outputs": [],
   "source": [
    "from azureml.core.environment import Environment\n",
    "from azureml.core.conda_dependencies import CondaDependencies\n",
    "from azureml.core.runconfig import DEFAULT_GPU_IMAGE\n",
    "\n",
    "batch_conda_deps = CondaDependencies.create(pip_packages=[\"tensorflow==1.13.1\", \"pillow\",\n",
    "                                                          \"azureml-core\", \"azureml-dataprep[pandas, fuse]\"])\n",
    "\n",
    "batch_env = Environment(name=\"batch_environment\")\n",
    "batch_env.python.conda_dependencies = batch_conda_deps\n",
    "batch_env.docker.enabled = True\n",
    "batch_env.docker.base_image = DEFAULT_GPU_IMAGE"
   ]
  },
  {
   "cell_type": "code",
   "execution_count": 71,
   "metadata": {},
   "outputs": [],
   "source": [
    "from azureml.pipeline.steps import ParallelRunConfig\n",
    "\n",
    "parallel_run_config = ParallelRunConfig(\n",
    "    environment=env,\n",
    "    entry_script=\"batchscore2.py\",\n",
    "    #source_directory=\"scripts\",\n",
    "    output_action=\"append_row\",\n",
    "    mini_batch_size=\"20\",\n",
    "    error_threshold=1,\n",
    "    compute_target=compute_target,\n",
    "    process_count_per_node=1,\n",
    "    node_count=1\n",
    ")"
   ]
  },
  {
   "cell_type": "code",
   "execution_count": 61,
   "metadata": {},
   "outputs": [],
   "source": [
    "from azureml.pipeline.steps import ParallelRunStep\n",
    "from datetime import datetime\n",
    "\n",
    "parallel_step_name = \"batchscoring-\" + datetime.now().strftime(\"%Y%m%d%H%M\")\n",
    "\n",
    "label_config = label_ds.as_named_input(\"labels_input\")\n",
    "\n",
    "batch_score_step = ParallelRunStep(\n",
    "    name=parallel_step_name,\n",
    "    inputs=[input_images.as_named_input(\"input_images\")],\n",
    "    output=output_dir,\n",
    "    arguments=[\"--model_name\", \"inception\",\n",
    "               \"--labels_dir\", label_config],\n",
    "    side_inputs=[label_config],\n",
    "    parallel_run_config=parallel_run_config,\n",
    "    allow_reuse=False\n",
    ")"
   ]
  },
  {
   "cell_type": "code",
   "execution_count": 67,
   "metadata": {},
   "outputs": [
    {
     "name": "stdout",
     "output_type": "stream",
     "text": [
      "Created step batchscoring-202007141306 [a2518915][dd875209-dad2-4f29-95ea-8a6a861f1b9c], (This step will run and generate new outputs)\n",
      "Using data reference input_images_0 for StepId [6780b164][347a50ad-d876-4229-99c5-d977e6b60a3c], (Consumers of this data are eligible to reuse prior runs.)\n",
      "Using data reference labels_input_0 for StepId [18fae126][1e2476f1-0ae1-4c13-92ab-e8449ea4e7dd], (Consumers of this data are eligible to reuse prior runs.)\n",
      "Submitted PipelineRun f8f88a58-0a54-42fe-a33c-e957eb275901\n",
      "Link to Azure Machine Learning Portal: https://ml.azure.com/experiments/batch_scoring/runs/f8f88a58-0a54-42fe-a33c-e957eb275901?wsid=/subscriptions/c46a9435-c957-4e6c-a0f4-b9a597984773/resourcegroups/mlops/workspaces/gputraining\n",
      "PipelineRunId: f8f88a58-0a54-42fe-a33c-e957eb275901\n",
      "Link to Azure Machine Learning Portal: https://ml.azure.com/experiments/batch_scoring/runs/f8f88a58-0a54-42fe-a33c-e957eb275901?wsid=/subscriptions/c46a9435-c957-4e6c-a0f4-b9a597984773/resourcegroups/mlops/workspaces/gputraining\n",
      "PipelineRun Status: NotStarted\n",
      "\n",
      "\n",
      "StepRunId: 125e3b29-0e13-4c8c-8a77-d7d7e9ce8698\n",
      "Link to Azure Machine Learning Portal: https://ml.azure.com/experiments/batch_scoring/runs/125e3b29-0e13-4c8c-8a77-d7d7e9ce8698?wsid=/subscriptions/c46a9435-c957-4e6c-a0f4-b9a597984773/resourcegroups/mlops/workspaces/gputraining\n",
      "StepRun( batchscoring-202007141306 ) Status: NotStarted\n",
      "StepRun( batchscoring-202007141306 ) Status: Running\n",
      "\n",
      "Streaming azureml-logs/55_azureml-execution-tvmps_da25ead30453b4d0987e77bf368092fab9e7e4bbda631d739a4f113e9e5b0564_d.txt\n",
      "========================================================================================================================\n",
      "2020-07-14T14:43:12Z Executing 'Copy ACR Details file' on 10.0.0.4\n",
      "2020-07-14T14:43:13Z Copy ACR Details file succeeded on 10.0.0.4. Output: \n",
      ">>>   \n",
      ">>>   \n",
      "2020-07-14T14:43:13Z Starting output-watcher...\n",
      "2020-07-14T14:43:13Z IsDedicatedCompute == True, won't poll for Low Pri Preemption\n",
      "Login Succeeded\n",
      "Using default tag: latest\n",
      "latest: Pulling from azureml/azureml_19d97affaece9e27eafdfa9e6f8f9e58\n",
      "Digest: sha256:35a56fda9d7d1e085afe4e9ad0f9f3c5102c4dba9f700233665a9d359e4365ad\n",
      "Status: Image is up to date for gputraining0ccd60bf.azurecr.io/azureml/azureml_19d97affaece9e27eafdfa9e6f8f9e58:latest\n",
      "2020-07-14T14:43:14Z e622c41ed7e60e29f97569cd106d5382433f69ab9b26f0af69ff31f28d299027\n",
      "2020-07-14T14:43:14Z \n",
      "2020/07/14 14:43:15 Starting App Insight Logger for task:  containerSetup\n",
      "2020/07/14 14:43:15 Version: 3.0.01287.0002 Branch: hotfixxdsnullexception Commit: dfcc21bd\n",
      "2020/07/14 14:43:15 /dev/infiniband/uverbs0 found (implying presence of InfiniBand)?: false\n",
      "2020/07/14 14:43:15 sshd inside container not required for job, skipping setup.\n",
      "2020/07/14 14:43:16 All App Insights Logs was send successfully\n",
      "\n",
      "Streaming azureml-logs/70_driver_log.txt\n",
      "========================================\n",
      "[2020-07-14T14:43:32.861641] Entering context manager injector.\n",
      "Initialize DatasetContextManager.\n",
      "Starting the daemon thread to refresh tokens in background for process with pid = 188\n",
      "Set Dataset input_images's target path to /mnt/batch/tasks/shared/LS_root/jobs/gputraining/azureml/125e3b29-0e13-4c8c-8a77-d7d7e9ce8698/mounts/workspaceblobstore/azureml/125e3b29-0e13-4c8c-8a77-d7d7e9ce8698/682ac986-572a-4441-9d1a-74cddf712937\n",
      "Set Dataset labels_input's target path to /mnt/batch/tasks/shared/LS_root/jobs/gputraining/azureml/125e3b29-0e13-4c8c-8a77-d7d7e9ce8698/mounts/workspaceblobstore/azureml/125e3b29-0e13-4c8c-8a77-d7d7e9ce8698/3e2f4eac-a80a-4703-b685-92e93fdfab8c\n",
      "Enter __enter__ of DatasetContextManager\n",
      "SDK version: azureml-core==1.6.0.post1 azureml-dataprep==1.9.1\n",
      "Processing 'input_images'\n",
      "Processing dataset FileDataset\n",
      "{\n",
      "  \"source\": [\n",
      "    \"('images_datastore', 'batchscoring/images/')\"\n",
      "  ],\n",
      "  \"definition\": [\n",
      "    \"GetDatastoreFiles\"\n",
      "  ],\n",
      "  \"registration\": {\n",
      "    \"id\": \"31302b68-56ac-452a-af40-8d5955ef5b03\",\n",
      "    \"name\": \"input_images\",\n",
      "    \"version\": 1,\n",
      "    \"workspace\": \"Workspace.create(name='gputraining', subscription_id='c46a9435-c957-4e6c-a0f4-b9a597984773', resource_group='mlops')\"\n",
      "  }\n",
      "}\n",
      "Mounted input_images to /tmp/55231375-dd46-4f42-9668-c6457875179e/batchscoring/images/\n",
      "Processing 'labels_input'\n",
      "Processing dataset FileDataset\n",
      "{\n",
      "  \"source\": [\n",
      "    \"('images_datastore', 'batchscoring/labels/')\"\n",
      "  ],\n",
      "  \"definition\": [\n",
      "    \"GetDatastoreFiles\"\n",
      "  ],\n",
      "  \"registration\": {\n",
      "    \"id\": \"2cb59e49-5ff8-4943-a12f-d8a9de5f396f\",\n",
      "    \"name\": \"label_ds\",\n",
      "    \"version\": 1,\n",
      "    \"workspace\": \"Workspace.create(name='gputraining', subscription_id='c46a9435-c957-4e6c-a0f4-b9a597984773', resource_group='mlops')\"\n",
      "  }\n",
      "}\n",
      "Mounted labels_input to /tmp/5398cd65-5c1a-43b8-97fd-77fce6097bae/batchscoring/labels/\n",
      "Exit __enter__ of DatasetContextManager\n",
      "Entering Run History Context Manager.\n",
      "Preparing to call script [ driver/amlbi_main.py ] with arguments: ['--client_sdk_version', '1.6.0', '--scoring_module_name', 'batchscore2.py', '--mini_batch_size', '20', '--error_threshold', '1', '--output_action', 'append_row', '--logging_level', 'INFO', '--run_invocation_timeout', '60', '--run_max_try', '3', '--create_snapshot_at_runtime', 'True', '--output', '/mnt/batch/tasks/shared/LS_root/jobs/gputraining/azureml/125e3b29-0e13-4c8c-8a77-d7d7e9ce8698/mounts/workspaceblobstore/azureml/125e3b29-0e13-4c8c-8a77-d7d7e9ce8698/scores', '--process_count_per_node', '2', '--model_name', 'inception', '--labels_dir', '$labels_input', '--input_fds_0', 'input_images', '--input1', '/tmp/55231375-dd46-4f42-9668-c6457875179e/batchscoring/images/']\n",
      "After variable expansion, calling script [ driver/amlbi_main.py ] with arguments: ['--client_sdk_version', '1.6.0', '--scoring_module_name', 'batchscore2.py', '--mini_batch_size', '20', '--error_threshold', '1', '--output_action', 'append_row', '--logging_level', 'INFO', '--run_invocation_timeout', '60', '--run_max_try', '3', '--create_snapshot_at_runtime', 'True', '--output', '/mnt/batch/tasks/shared/LS_root/jobs/gputraining/azureml/125e3b29-0e13-4c8c-8a77-d7d7e9ce8698/mounts/workspaceblobstore/azureml/125e3b29-0e13-4c8c-8a77-d7d7e9ce8698/scores', '--process_count_per_node', '2', '--model_name', 'inception', '--labels_dir', '/tmp/5398cd65-5c1a-43b8-97fd-77fce6097bae/batchscoring/labels/', '--input_fds_0', 'input_images', '--input1', '/tmp/55231375-dd46-4f42-9668-c6457875179e/batchscoring/images/']\n",
      "\n",
      "\n",
      "Streaming azureml-logs/75_job_post-tvmps_da25ead30453b4d0987e77bf368092fab9e7e4bbda631d739a4f113e9e5b0564_d.txt\n",
      "===============================================================================================================\n",
      "Entering job release. Current time:2020-07-14T14:48:50.212563\n",
      "Starting job release. Current time:2020-07-14T14:48:50.985603\n",
      "Logging experiment finalizing status in history service.\n",
      "Starting the daemon thread to refresh tokens in background for process with pid = 4107\n",
      "[2020-07-14T14:48:50.995134] Entering context manager injector.\n",
      "Job release is complete. Current time:2020-07-14T14:49:03.565008\n",
      "\n",
      "StepRun(batchscoring-202007141306) Execution Summary\n",
      "=====================================================\n",
      "StepRun( batchscoring-202007141306 ) Status: Failed\n",
      "\n",
      "Warnings:\n",
      "{\n",
      "  \"error\": {\n",
      "    \"code\": \"UserError\",\n",
      "    \"severity\": null,\n",
      "    \"message\": \"AzureMLCompute job failed.\\nJobFailed: Submitted script failed with a non-zero exit code; see the driver log file for details.\",\n",
      "    \"messageFormat\": null,\n",
      "    \"messageParameters\": null,\n",
      "    \"referenceCode\": null,\n",
      "    \"detailsUri\": null,\n",
      "    \"target\": null,\n",
      "    \"details\": [],\n",
      "    \"innerError\": null,\n",
      "    \"debugInfo\": null\n",
      "  },\n",
      "  \"correlation\": {\n",
      "    \"operation\": null,\n",
      "    \"request\": \"4805db05582de790\"\n",
      "  },\n",
      "  \"environment\": \"westus2\",\n",
      "  \"location\": \"westus2\",\n",
      "  \"time\": \"2020-07-14T14:49:11.417247+00:00\",\n",
      "  \"componentName\": \"execution-worker\"\n",
      "}\n"
     ]
    },
    {
     "ename": "ActivityFailedException",
     "evalue": "ActivityFailedException:\n\tMessage: Activity Failed:\n{\n    \"error\": {\n        \"code\": \"UserError\",\n        \"message\": \"User program failed with EntryScriptException: Job failed with entry script error No progress update in 270 seconds. Updated: False, total wait from last update: 275 seconds, remaining -5 seconds. 0/6 items processed. new_finished_tasks: 0. Detail: No mini batch has been processed.\\nError 'The passed save_path is not a valid checkpoint: azureml-models/tf-dnn-mnist/5/model/tf-dnn-mnist.model' occurred 59 times.\\nThe init() in the entry script had raised exception for 59 times. Please check agent log for more details. \",\n        \"detailsUri\": \"https://aka.ms/azureml-known-errors\",\n        \"details\": [],\n        \"debugInfo\": {\n            \"type\": \"EntryScriptException\",\n            \"message\": \"Job failed with entry script error No progress update in 270 seconds. Updated: False, total wait from last update: 275 seconds, remaining -5 seconds. 0/6 items processed. new_finished_tasks: 0. Detail: No mini batch has been processed.\\nError 'The passed save_path is not a valid checkpoint: azureml-models/tf-dnn-mnist/5/model/tf-dnn-mnist.model' occurred 59 times.\\nThe init() in the entry script had raised exception for 59 times. Please check agent log for more details. \",\n            \"stackTrace\": \"  File \\\"/mnt/batch/tasks/shared/LS_root/jobs/gputraining/azureml/125e3b29-0e13-4c8c-8a77-d7d7e9ce8698/mounts/workspaceblobstore/azureml/125e3b29-0e13-4c8c-8a77-d7d7e9ce8698/azureml-setup/context_manager_injector.py\\\", line 148, in execute_with_context\\n    runpy.run_path(sys.argv[0], globals(), run_name=\\\"__main__\\\")\\n  File \\\"/azureml-envs/azureml_f4e68f3adb82631611e113c6c0729540/lib/python3.6/runpy.py\\\", line 263, in run_path\\n    pkg_name=pkg_name, script_name=fname)\\n  File \\\"/azureml-envs/azureml_f4e68f3adb82631611e113c6c0729540/lib/python3.6/runpy.py\\\", line 96, in _run_module_code\\n    mod_name, mod_spec, pkg_name, script_name)\\n  File \\\"/azureml-envs/azureml_f4e68f3adb82631611e113c6c0729540/lib/python3.6/runpy.py\\\", line 85, in _run_code\\n    exec(code, run_globals)\\n  File \\\"driver/amlbi_main.py\\\", line 61, in <module>\\n    main()\\n  File \\\"driver/amlbi_main.py\\\", line 54, in main\\n    booter.start()\\n  File \\\"/mnt/batch/tasks/shared/LS_root/jobs/gputraining/azureml/125e3b29-0e13-4c8c-8a77-d7d7e9ce8698/mounts/workspaceblobstore/azureml/125e3b29-0e13-4c8c-8a77-d7d7e9ce8698/driver/azureml_user/parallel_run/boot.py\\\", line 249, in start\\n    self.start_sys_main()\\n  File \\\"/mnt/batch/tasks/shared/LS_root/jobs/gputraining/azureml/125e3b29-0e13-4c8c-8a77-d7d7e9ce8698/mounts/workspaceblobstore/azureml/125e3b29-0e13-4c8c-8a77-d7d7e9ce8698/driver/azureml_user/parallel_run/boot.py\\\", line 197, in start_sys_main\\n    self.run(cmd)\\n  File \\\"/mnt/batch/tasks/shared/LS_root/jobs/gputraining/azureml/125e3b29-0e13-4c8c-8a77-d7d7e9ce8698/mounts/workspaceblobstore/azureml/125e3b29-0e13-4c8c-8a77-d7d7e9ce8698/driver/azureml_user/parallel_run/boot.py\\\", line 150, in run\\n    BootResult().check_result(stdout)\\n  File \\\"/mnt/batch/tasks/shared/LS_root/jobs/gputraining/azureml/125e3b29-0e13-4c8c-8a77-d7d7e9ce8698/mounts/workspaceblobstore/azureml/125e3b29-0e13-4c8c-8a77-d7d7e9ce8698/driver/azureml_user/parallel_run/boot_result.py\\\", line 50, in check_result\\n    self.raise_exception(error)\\n  File \\\"/mnt/batch/tasks/shared/LS_root/jobs/gputraining/azureml/125e3b29-0e13-4c8c-8a77-d7d7e9ce8698/mounts/workspaceblobstore/azureml/125e3b29-0e13-4c8c-8a77-d7d7e9ce8698/driver/azureml_user/parallel_run/boot_result.py\\\", line 35, in raise_exception\\n    raise exc_type(exc_msg)\\n\"\n        },\n        \"messageParameters\": {}\n    },\n    \"time\": \"0001-01-01T00:00:00.000Z\"\n}\n\tInnerException None\n\tErrorResponse \n{\n    \"error\": {\n        \"message\": \"Activity Failed:\\n{\\n    \\\"error\\\": {\\n        \\\"code\\\": \\\"UserError\\\",\\n        \\\"message\\\": \\\"User program failed with EntryScriptException: Job failed with entry script error No progress update in 270 seconds. Updated: False, total wait from last update: 275 seconds, remaining -5 seconds. 0/6 items processed. new_finished_tasks: 0. Detail: No mini batch has been processed.\\\\nError 'The passed save_path is not a valid checkpoint: azureml-models/tf-dnn-mnist/5/model/tf-dnn-mnist.model' occurred 59 times.\\\\nThe init() in the entry script had raised exception for 59 times. Please check agent log for more details. \\\",\\n        \\\"detailsUri\\\": \\\"https://aka.ms/azureml-known-errors\\\",\\n        \\\"details\\\": [],\\n        \\\"debugInfo\\\": {\\n            \\\"type\\\": \\\"EntryScriptException\\\",\\n            \\\"message\\\": \\\"Job failed with entry script error No progress update in 270 seconds. Updated: False, total wait from last update: 275 seconds, remaining -5 seconds. 0/6 items processed. new_finished_tasks: 0. Detail: No mini batch has been processed.\\\\nError 'The passed save_path is not a valid checkpoint: azureml-models/tf-dnn-mnist/5/model/tf-dnn-mnist.model' occurred 59 times.\\\\nThe init() in the entry script had raised exception for 59 times. Please check agent log for more details. \\\",\\n            \\\"stackTrace\\\": \\\"  File \\\\\\\"/mnt/batch/tasks/shared/LS_root/jobs/gputraining/azureml/125e3b29-0e13-4c8c-8a77-d7d7e9ce8698/mounts/workspaceblobstore/azureml/125e3b29-0e13-4c8c-8a77-d7d7e9ce8698/azureml-setup/context_manager_injector.py\\\\\\\", line 148, in execute_with_context\\\\n    runpy.run_path(sys.argv[0], globals(), run_name=\\\\\\\"__main__\\\\\\\")\\\\n  File \\\\\\\"/azureml-envs/azureml_f4e68f3adb82631611e113c6c0729540/lib/python3.6/runpy.py\\\\\\\", line 263, in run_path\\\\n    pkg_name=pkg_name, script_name=fname)\\\\n  File \\\\\\\"/azureml-envs/azureml_f4e68f3adb82631611e113c6c0729540/lib/python3.6/runpy.py\\\\\\\", line 96, in _run_module_code\\\\n    mod_name, mod_spec, pkg_name, script_name)\\\\n  File \\\\\\\"/azureml-envs/azureml_f4e68f3adb82631611e113c6c0729540/lib/python3.6/runpy.py\\\\\\\", line 85, in _run_code\\\\n    exec(code, run_globals)\\\\n  File \\\\\\\"driver/amlbi_main.py\\\\\\\", line 61, in <module>\\\\n    main()\\\\n  File \\\\\\\"driver/amlbi_main.py\\\\\\\", line 54, in main\\\\n    booter.start()\\\\n  File \\\\\\\"/mnt/batch/tasks/shared/LS_root/jobs/gputraining/azureml/125e3b29-0e13-4c8c-8a77-d7d7e9ce8698/mounts/workspaceblobstore/azureml/125e3b29-0e13-4c8c-8a77-d7d7e9ce8698/driver/azureml_user/parallel_run/boot.py\\\\\\\", line 249, in start\\\\n    self.start_sys_main()\\\\n  File \\\\\\\"/mnt/batch/tasks/shared/LS_root/jobs/gputraining/azureml/125e3b29-0e13-4c8c-8a77-d7d7e9ce8698/mounts/workspaceblobstore/azureml/125e3b29-0e13-4c8c-8a77-d7d7e9ce8698/driver/azureml_user/parallel_run/boot.py\\\\\\\", line 197, in start_sys_main\\\\n    self.run(cmd)\\\\n  File \\\\\\\"/mnt/batch/tasks/shared/LS_root/jobs/gputraining/azureml/125e3b29-0e13-4c8c-8a77-d7d7e9ce8698/mounts/workspaceblobstore/azureml/125e3b29-0e13-4c8c-8a77-d7d7e9ce8698/driver/azureml_user/parallel_run/boot.py\\\\\\\", line 150, in run\\\\n    BootResult().check_result(stdout)\\\\n  File \\\\\\\"/mnt/batch/tasks/shared/LS_root/jobs/gputraining/azureml/125e3b29-0e13-4c8c-8a77-d7d7e9ce8698/mounts/workspaceblobstore/azureml/125e3b29-0e13-4c8c-8a77-d7d7e9ce8698/driver/azureml_user/parallel_run/boot_result.py\\\\\\\", line 50, in check_result\\\\n    self.raise_exception(error)\\\\n  File \\\\\\\"/mnt/batch/tasks/shared/LS_root/jobs/gputraining/azureml/125e3b29-0e13-4c8c-8a77-d7d7e9ce8698/mounts/workspaceblobstore/azureml/125e3b29-0e13-4c8c-8a77-d7d7e9ce8698/driver/azureml_user/parallel_run/boot_result.py\\\\\\\", line 35, in raise_exception\\\\n    raise exc_type(exc_msg)\\\\n\\\"\\n        },\\n        \\\"messageParameters\\\": {}\\n    },\\n    \\\"time\\\": \\\"0001-01-01T00:00:00.000Z\\\"\\n}\"\n    }\n}",
     "output_type": "error",
     "traceback": [
      "\u001b[0;31m---------------------------------------------------------------------------\u001b[0m",
      "\u001b[0;31mActivityFailedException\u001b[0m                   Traceback (most recent call last)",
      "\u001b[0;32m<ipython-input-67-c3f1db1260e9>\u001b[0m in \u001b[0;36m<module>\u001b[0;34m\u001b[0m\n\u001b[1;32m      4\u001b[0m \u001b[0mpipeline\u001b[0m \u001b[0;34m=\u001b[0m \u001b[0mPipeline\u001b[0m\u001b[0;34m(\u001b[0m\u001b[0mworkspace\u001b[0m\u001b[0;34m=\u001b[0m\u001b[0mws\u001b[0m\u001b[0;34m,\u001b[0m \u001b[0msteps\u001b[0m\u001b[0;34m=\u001b[0m\u001b[0;34m[\u001b[0m\u001b[0mbatch_score_step\u001b[0m\u001b[0;34m]\u001b[0m\u001b[0;34m)\u001b[0m\u001b[0;34m\u001b[0m\u001b[0;34m\u001b[0m\u001b[0m\n\u001b[1;32m      5\u001b[0m \u001b[0mpipeline_run\u001b[0m \u001b[0;34m=\u001b[0m \u001b[0mExperiment\u001b[0m\u001b[0;34m(\u001b[0m\u001b[0mws\u001b[0m\u001b[0;34m,\u001b[0m \u001b[0;34m'batch_scoring'\u001b[0m\u001b[0;34m)\u001b[0m\u001b[0;34m.\u001b[0m\u001b[0msubmit\u001b[0m\u001b[0;34m(\u001b[0m\u001b[0mpipeline\u001b[0m\u001b[0;34m)\u001b[0m\u001b[0;34m\u001b[0m\u001b[0;34m\u001b[0m\u001b[0m\n\u001b[0;32m----> 6\u001b[0;31m \u001b[0mpipeline_run\u001b[0m\u001b[0;34m.\u001b[0m\u001b[0mwait_for_completion\u001b[0m\u001b[0;34m(\u001b[0m\u001b[0mshow_output\u001b[0m\u001b[0;34m=\u001b[0m\u001b[0;32mTrue\u001b[0m\u001b[0;34m)\u001b[0m\u001b[0;34m\u001b[0m\u001b[0;34m\u001b[0m\u001b[0m\n\u001b[0m",
      "\u001b[0;32m/anaconda/envs/azureml_py36/lib/python3.6/site-packages/azureml/pipeline/core/run.py\u001b[0m in \u001b[0;36mwait_for_completion\u001b[0;34m(self, show_output, timeout_seconds, raise_on_error)\u001b[0m\n\u001b[1;32m    293\u001b[0m                             \u001b[0;32mtry\u001b[0m\u001b[0;34m:\u001b[0m\u001b[0;34m\u001b[0m\u001b[0;34m\u001b[0m\u001b[0m\n\u001b[1;32m    294\u001b[0m                                 step_run.wait_for_completion(timeout_seconds=timeout_seconds - time_elapsed,\n\u001b[0;32m--> 295\u001b[0;31m                                                              raise_on_error=raise_on_error)\n\u001b[0m\u001b[1;32m    296\u001b[0m                             \u001b[0;32mexcept\u001b[0m \u001b[0mTypeError\u001b[0m \u001b[0;32mas\u001b[0m \u001b[0me\u001b[0m\u001b[0;34m:\u001b[0m\u001b[0;34m\u001b[0m\u001b[0;34m\u001b[0m\u001b[0m\n\u001b[1;32m    297\u001b[0m                                 \u001b[0;31m# If there are package conflicts in the user's environment, the run rehydration\u001b[0m\u001b[0;34m\u001b[0m\u001b[0;34m\u001b[0m\u001b[0;34m\u001b[0m\u001b[0m\n",
      "\u001b[0;32m/anaconda/envs/azureml_py36/lib/python3.6/site-packages/azureml/pipeline/core/run.py\u001b[0m in \u001b[0;36mwait_for_completion\u001b[0;34m(self, show_output, timeout_seconds, raise_on_error)\u001b[0m\n\u001b[1;32m    735\u001b[0m             \u001b[0;32mtry\u001b[0m\u001b[0;34m:\u001b[0m\u001b[0;34m\u001b[0m\u001b[0;34m\u001b[0m\u001b[0m\n\u001b[1;32m    736\u001b[0m                 return self._stream_run_output(timeout_seconds=timeout_seconds,\n\u001b[0;32m--> 737\u001b[0;31m                                                raise_on_error=raise_on_error)\n\u001b[0m\u001b[1;32m    738\u001b[0m             \u001b[0;32mexcept\u001b[0m \u001b[0mKeyboardInterrupt\u001b[0m\u001b[0;34m:\u001b[0m\u001b[0;34m\u001b[0m\u001b[0;34m\u001b[0m\u001b[0m\n\u001b[1;32m    739\u001b[0m                 \u001b[0merror_message\u001b[0m \u001b[0;34m=\u001b[0m \u001b[0;34m\"The output streaming for the run interrupted.\\n\"\u001b[0m\u001b[0;31m \u001b[0m\u001b[0;31m\\\u001b[0m\u001b[0;34m\u001b[0m\u001b[0;34m\u001b[0m\u001b[0m\n",
      "\u001b[0;32m/anaconda/envs/azureml_py36/lib/python3.6/site-packages/azureml/pipeline/core/run.py\u001b[0m in \u001b[0;36m_stream_run_output\u001b[0;34m(self, timeout_seconds, raise_on_error)\u001b[0m\n\u001b[1;32m    823\u001b[0m             \u001b[0mprint\u001b[0m\u001b[0;34m(\u001b[0m\u001b[0mjson\u001b[0m\u001b[0;34m.\u001b[0m\u001b[0mdumps\u001b[0m\u001b[0;34m(\u001b[0m\u001b[0merror\u001b[0m\u001b[0;34m,\u001b[0m \u001b[0mindent\u001b[0m\u001b[0;34m=\u001b[0m\u001b[0;36m4\u001b[0m\u001b[0;34m)\u001b[0m\u001b[0;34m)\u001b[0m\u001b[0;34m\u001b[0m\u001b[0;34m\u001b[0m\u001b[0m\n\u001b[1;32m    824\u001b[0m         \u001b[0;32mif\u001b[0m \u001b[0merror\u001b[0m \u001b[0;32mand\u001b[0m \u001b[0mraise_on_error\u001b[0m\u001b[0;34m:\u001b[0m\u001b[0;34m\u001b[0m\u001b[0;34m\u001b[0m\u001b[0m\n\u001b[0;32m--> 825\u001b[0;31m             \u001b[0;32mraise\u001b[0m \u001b[0mActivityFailedException\u001b[0m\u001b[0;34m(\u001b[0m\u001b[0merror_details\u001b[0m\u001b[0;34m=\u001b[0m\u001b[0mjson\u001b[0m\u001b[0;34m.\u001b[0m\u001b[0mdumps\u001b[0m\u001b[0;34m(\u001b[0m\u001b[0merror\u001b[0m\u001b[0;34m,\u001b[0m \u001b[0mindent\u001b[0m\u001b[0;34m=\u001b[0m\u001b[0;36m4\u001b[0m\u001b[0;34m)\u001b[0m\u001b[0;34m)\u001b[0m\u001b[0;34m\u001b[0m\u001b[0;34m\u001b[0m\u001b[0m\n\u001b[0m\u001b[1;32m    826\u001b[0m \u001b[0;34m\u001b[0m\u001b[0m\n\u001b[1;32m    827\u001b[0m         \u001b[0mprint\u001b[0m\u001b[0;34m(\u001b[0m\u001b[0mfinal_details\u001b[0m\u001b[0;34m)\u001b[0m\u001b[0;34m\u001b[0m\u001b[0;34m\u001b[0m\u001b[0m\n",
      "\u001b[0;31mActivityFailedException\u001b[0m: ActivityFailedException:\n\tMessage: Activity Failed:\n{\n    \"error\": {\n        \"code\": \"UserError\",\n        \"message\": \"User program failed with EntryScriptException: Job failed with entry script error No progress update in 270 seconds. Updated: False, total wait from last update: 275 seconds, remaining -5 seconds. 0/6 items processed. new_finished_tasks: 0. Detail: No mini batch has been processed.\\nError 'The passed save_path is not a valid checkpoint: azureml-models/tf-dnn-mnist/5/model/tf-dnn-mnist.model' occurred 59 times.\\nThe init() in the entry script had raised exception for 59 times. Please check agent log for more details. \",\n        \"detailsUri\": \"https://aka.ms/azureml-known-errors\",\n        \"details\": [],\n        \"debugInfo\": {\n            \"type\": \"EntryScriptException\",\n            \"message\": \"Job failed with entry script error No progress update in 270 seconds. Updated: False, total wait from last update: 275 seconds, remaining -5 seconds. 0/6 items processed. new_finished_tasks: 0. Detail: No mini batch has been processed.\\nError 'The passed save_path is not a valid checkpoint: azureml-models/tf-dnn-mnist/5/model/tf-dnn-mnist.model' occurred 59 times.\\nThe init() in the entry script had raised exception for 59 times. Please check agent log for more details. \",\n            \"stackTrace\": \"  File \\\"/mnt/batch/tasks/shared/LS_root/jobs/gputraining/azureml/125e3b29-0e13-4c8c-8a77-d7d7e9ce8698/mounts/workspaceblobstore/azureml/125e3b29-0e13-4c8c-8a77-d7d7e9ce8698/azureml-setup/context_manager_injector.py\\\", line 148, in execute_with_context\\n    runpy.run_path(sys.argv[0], globals(), run_name=\\\"__main__\\\")\\n  File \\\"/azureml-envs/azureml_f4e68f3adb82631611e113c6c0729540/lib/python3.6/runpy.py\\\", line 263, in run_path\\n    pkg_name=pkg_name, script_name=fname)\\n  File \\\"/azureml-envs/azureml_f4e68f3adb82631611e113c6c0729540/lib/python3.6/runpy.py\\\", line 96, in _run_module_code\\n    mod_name, mod_spec, pkg_name, script_name)\\n  File \\\"/azureml-envs/azureml_f4e68f3adb82631611e113c6c0729540/lib/python3.6/runpy.py\\\", line 85, in _run_code\\n    exec(code, run_globals)\\n  File \\\"driver/amlbi_main.py\\\", line 61, in <module>\\n    main()\\n  File \\\"driver/amlbi_main.py\\\", line 54, in main\\n    booter.start()\\n  File \\\"/mnt/batch/tasks/shared/LS_root/jobs/gputraining/azureml/125e3b29-0e13-4c8c-8a77-d7d7e9ce8698/mounts/workspaceblobstore/azureml/125e3b29-0e13-4c8c-8a77-d7d7e9ce8698/driver/azureml_user/parallel_run/boot.py\\\", line 249, in start\\n    self.start_sys_main()\\n  File \\\"/mnt/batch/tasks/shared/LS_root/jobs/gputraining/azureml/125e3b29-0e13-4c8c-8a77-d7d7e9ce8698/mounts/workspaceblobstore/azureml/125e3b29-0e13-4c8c-8a77-d7d7e9ce8698/driver/azureml_user/parallel_run/boot.py\\\", line 197, in start_sys_main\\n    self.run(cmd)\\n  File \\\"/mnt/batch/tasks/shared/LS_root/jobs/gputraining/azureml/125e3b29-0e13-4c8c-8a77-d7d7e9ce8698/mounts/workspaceblobstore/azureml/125e3b29-0e13-4c8c-8a77-d7d7e9ce8698/driver/azureml_user/parallel_run/boot.py\\\", line 150, in run\\n    BootResult().check_result(stdout)\\n  File \\\"/mnt/batch/tasks/shared/LS_root/jobs/gputraining/azureml/125e3b29-0e13-4c8c-8a77-d7d7e9ce8698/mounts/workspaceblobstore/azureml/125e3b29-0e13-4c8c-8a77-d7d7e9ce8698/driver/azureml_user/parallel_run/boot_result.py\\\", line 50, in check_result\\n    self.raise_exception(error)\\n  File \\\"/mnt/batch/tasks/shared/LS_root/jobs/gputraining/azureml/125e3b29-0e13-4c8c-8a77-d7d7e9ce8698/mounts/workspaceblobstore/azureml/125e3b29-0e13-4c8c-8a77-d7d7e9ce8698/driver/azureml_user/parallel_run/boot_result.py\\\", line 35, in raise_exception\\n    raise exc_type(exc_msg)\\n\"\n        },\n        \"messageParameters\": {}\n    },\n    \"time\": \"0001-01-01T00:00:00.000Z\"\n}\n\tInnerException None\n\tErrorResponse \n{\n    \"error\": {\n        \"message\": \"Activity Failed:\\n{\\n    \\\"error\\\": {\\n        \\\"code\\\": \\\"UserError\\\",\\n        \\\"message\\\": \\\"User program failed with EntryScriptException: Job failed with entry script error No progress update in 270 seconds. Updated: False, total wait from last update: 275 seconds, remaining -5 seconds. 0/6 items processed. new_finished_tasks: 0. Detail: No mini batch has been processed.\\\\nError 'The passed save_path is not a valid checkpoint: azureml-models/tf-dnn-mnist/5/model/tf-dnn-mnist.model' occurred 59 times.\\\\nThe init() in the entry script had raised exception for 59 times. Please check agent log for more details. \\\",\\n        \\\"detailsUri\\\": \\\"https://aka.ms/azureml-known-errors\\\",\\n        \\\"details\\\": [],\\n        \\\"debugInfo\\\": {\\n            \\\"type\\\": \\\"EntryScriptException\\\",\\n            \\\"message\\\": \\\"Job failed with entry script error No progress update in 270 seconds. Updated: False, total wait from last update: 275 seconds, remaining -5 seconds. 0/6 items processed. new_finished_tasks: 0. Detail: No mini batch has been processed.\\\\nError 'The passed save_path is not a valid checkpoint: azureml-models/tf-dnn-mnist/5/model/tf-dnn-mnist.model' occurred 59 times.\\\\nThe init() in the entry script had raised exception for 59 times. Please check agent log for more details. \\\",\\n            \\\"stackTrace\\\": \\\"  File \\\\\\\"/mnt/batch/tasks/shared/LS_root/jobs/gputraining/azureml/125e3b29-0e13-4c8c-8a77-d7d7e9ce8698/mounts/workspaceblobstore/azureml/125e3b29-0e13-4c8c-8a77-d7d7e9ce8698/azureml-setup/context_manager_injector.py\\\\\\\", line 148, in execute_with_context\\\\n    runpy.run_path(sys.argv[0], globals(), run_name=\\\\\\\"__main__\\\\\\\")\\\\n  File \\\\\\\"/azureml-envs/azureml_f4e68f3adb82631611e113c6c0729540/lib/python3.6/runpy.py\\\\\\\", line 263, in run_path\\\\n    pkg_name=pkg_name, script_name=fname)\\\\n  File \\\\\\\"/azureml-envs/azureml_f4e68f3adb82631611e113c6c0729540/lib/python3.6/runpy.py\\\\\\\", line 96, in _run_module_code\\\\n    mod_name, mod_spec, pkg_name, script_name)\\\\n  File \\\\\\\"/azureml-envs/azureml_f4e68f3adb82631611e113c6c0729540/lib/python3.6/runpy.py\\\\\\\", line 85, in _run_code\\\\n    exec(code, run_globals)\\\\n  File \\\\\\\"driver/amlbi_main.py\\\\\\\", line 61, in <module>\\\\n    main()\\\\n  File \\\\\\\"driver/amlbi_main.py\\\\\\\", line 54, in main\\\\n    booter.start()\\\\n  File \\\\\\\"/mnt/batch/tasks/shared/LS_root/jobs/gputraining/azureml/125e3b29-0e13-4c8c-8a77-d7d7e9ce8698/mounts/workspaceblobstore/azureml/125e3b29-0e13-4c8c-8a77-d7d7e9ce8698/driver/azureml_user/parallel_run/boot.py\\\\\\\", line 249, in start\\\\n    self.start_sys_main()\\\\n  File \\\\\\\"/mnt/batch/tasks/shared/LS_root/jobs/gputraining/azureml/125e3b29-0e13-4c8c-8a77-d7d7e9ce8698/mounts/workspaceblobstore/azureml/125e3b29-0e13-4c8c-8a77-d7d7e9ce8698/driver/azureml_user/parallel_run/boot.py\\\\\\\", line 197, in start_sys_main\\\\n    self.run(cmd)\\\\n  File \\\\\\\"/mnt/batch/tasks/shared/LS_root/jobs/gputraining/azureml/125e3b29-0e13-4c8c-8a77-d7d7e9ce8698/mounts/workspaceblobstore/azureml/125e3b29-0e13-4c8c-8a77-d7d7e9ce8698/driver/azureml_user/parallel_run/boot.py\\\\\\\", line 150, in run\\\\n    BootResult().check_result(stdout)\\\\n  File \\\\\\\"/mnt/batch/tasks/shared/LS_root/jobs/gputraining/azureml/125e3b29-0e13-4c8c-8a77-d7d7e9ce8698/mounts/workspaceblobstore/azureml/125e3b29-0e13-4c8c-8a77-d7d7e9ce8698/driver/azureml_user/parallel_run/boot_result.py\\\\\\\", line 50, in check_result\\\\n    self.raise_exception(error)\\\\n  File \\\\\\\"/mnt/batch/tasks/shared/LS_root/jobs/gputraining/azureml/125e3b29-0e13-4c8c-8a77-d7d7e9ce8698/mounts/workspaceblobstore/azureml/125e3b29-0e13-4c8c-8a77-d7d7e9ce8698/driver/azureml_user/parallel_run/boot_result.py\\\\\\\", line 35, in raise_exception\\\\n    raise exc_type(exc_msg)\\\\n\\\"\\n        },\\n        \\\"messageParameters\\\": {}\\n    },\\n    \\\"time\\\": \\\"0001-01-01T00:00:00.000Z\\\"\\n}\"\n    }\n}"
     ]
    }
   ],
   "source": [
    "from azureml.core import Experiment\n",
    "from azureml.pipeline.core import Pipeline\n",
    "\n",
    "pipeline = Pipeline(workspace=ws, steps=[batch_score_step])\n",
    "pipeline_run = Experiment(ws, 'batch_scoring').submit(pipeline)\n",
    "pipeline_run.wait_for_completion(show_output=True)"
   ]
  },
  {
   "cell_type": "code",
   "execution_count": 68,
   "metadata": {},
   "outputs": [
    {
     "ename": "KeyError",
     "evalue": "'scores'",
     "output_type": "error",
     "traceback": [
      "\u001b[0;31m---------------------------------------------------------------------------\u001b[0m",
      "\u001b[0;31mKeyError\u001b[0m                                  Traceback (most recent call last)",
      "\u001b[0;32m<ipython-input-68-865b2e179202>\u001b[0m in \u001b[0;36m<module>\u001b[0;34m\u001b[0m\n\u001b[1;32m      2\u001b[0m \u001b[0;34m\u001b[0m\u001b[0m\n\u001b[1;32m      3\u001b[0m \u001b[0mbatch_run\u001b[0m \u001b[0;34m=\u001b[0m \u001b[0mnext\u001b[0m\u001b[0;34m(\u001b[0m\u001b[0mpipeline_run\u001b[0m\u001b[0;34m.\u001b[0m\u001b[0mget_children\u001b[0m\u001b[0;34m(\u001b[0m\u001b[0;34m)\u001b[0m\u001b[0;34m)\u001b[0m\u001b[0;34m\u001b[0m\u001b[0;34m\u001b[0m\u001b[0m\n\u001b[0;32m----> 4\u001b[0;31m \u001b[0mbatch_output\u001b[0m \u001b[0;34m=\u001b[0m \u001b[0mbatch_run\u001b[0m\u001b[0;34m.\u001b[0m\u001b[0mget_output_data\u001b[0m\u001b[0;34m(\u001b[0m\u001b[0;34m\"scores\"\u001b[0m\u001b[0;34m)\u001b[0m\u001b[0;34m\u001b[0m\u001b[0;34m\u001b[0m\u001b[0m\n\u001b[0m\u001b[1;32m      5\u001b[0m \u001b[0mbatch_output\u001b[0m\u001b[0;34m.\u001b[0m\u001b[0mdownload\u001b[0m\u001b[0;34m(\u001b[0m\u001b[0mlocal_path\u001b[0m\u001b[0;34m=\u001b[0m\u001b[0;34m\"inception_results\"\u001b[0m\u001b[0;34m)\u001b[0m\u001b[0;34m\u001b[0m\u001b[0;34m\u001b[0m\u001b[0m\n",
      "\u001b[0;32m/anaconda/envs/azureml_py36/lib/python3.6/site-packages/azureml/pipeline/core/run.py\u001b[0m in \u001b[0;36mget_output_data\u001b[0;34m(self, name)\u001b[0m\n\u001b[1;32m    711\u001b[0m         \u001b[0;34m:\u001b[0m\u001b[0mrtype\u001b[0m\u001b[0;34m:\u001b[0m \u001b[0mazureml\u001b[0m\u001b[0;34m.\u001b[0m\u001b[0mpipeline\u001b[0m\u001b[0;34m.\u001b[0m\u001b[0mcore\u001b[0m\u001b[0;34m.\u001b[0m\u001b[0mPortDataReference\u001b[0m\u001b[0;34m\u001b[0m\u001b[0;34m\u001b[0m\u001b[0m\n\u001b[1;32m    712\u001b[0m         \"\"\"\n\u001b[0;32m--> 713\u001b[0;31m         \u001b[0;32mreturn\u001b[0m \u001b[0mself\u001b[0m\u001b[0;34m.\u001b[0m\u001b[0mget_output\u001b[0m\u001b[0;34m(\u001b[0m\u001b[0mname\u001b[0m\u001b[0;34m)\u001b[0m\u001b[0;34m.\u001b[0m\u001b[0mget_port_data_reference\u001b[0m\u001b[0;34m(\u001b[0m\u001b[0;34m)\u001b[0m\u001b[0;34m\u001b[0m\u001b[0;34m\u001b[0m\u001b[0m\n\u001b[0m\u001b[1;32m    714\u001b[0m \u001b[0;34m\u001b[0m\u001b[0m\n\u001b[1;32m    715\u001b[0m     \u001b[0;32mdef\u001b[0m \u001b[0mwait_for_completion\u001b[0m\u001b[0;34m(\u001b[0m\u001b[0mself\u001b[0m\u001b[0;34m,\u001b[0m \u001b[0mshow_output\u001b[0m\u001b[0;34m=\u001b[0m\u001b[0;32mTrue\u001b[0m\u001b[0;34m,\u001b[0m \u001b[0mtimeout_seconds\u001b[0m\u001b[0;34m=\u001b[0m\u001b[0msys\u001b[0m\u001b[0;34m.\u001b[0m\u001b[0mmaxsize\u001b[0m\u001b[0;34m,\u001b[0m \u001b[0mraise_on_error\u001b[0m\u001b[0;34m=\u001b[0m\u001b[0;32mTrue\u001b[0m\u001b[0;34m)\u001b[0m\u001b[0;34m:\u001b[0m\u001b[0;34m\u001b[0m\u001b[0;34m\u001b[0m\u001b[0m\n",
      "\u001b[0;32m/anaconda/envs/azureml_py36/lib/python3.6/site-packages/azureml/pipeline/core/run.py\u001b[0m in \u001b[0;36mget_output\u001b[0;34m(self, name)\u001b[0m\n\u001b[1;32m    699\u001b[0m         \u001b[0;34m:\u001b[0m\u001b[0mrtype\u001b[0m\u001b[0;34m:\u001b[0m \u001b[0mazureml\u001b[0m\u001b[0;34m.\u001b[0m\u001b[0mpipeline\u001b[0m\u001b[0;34m.\u001b[0m\u001b[0mcore\u001b[0m\u001b[0;34m.\u001b[0m\u001b[0mStepRunOutput\u001b[0m\u001b[0;34m\u001b[0m\u001b[0;34m\u001b[0m\u001b[0m\n\u001b[1;32m    700\u001b[0m         \"\"\"\n\u001b[0;32m--> 701\u001b[0;31m         \u001b[0;32mreturn\u001b[0m \u001b[0mself\u001b[0m\u001b[0;34m.\u001b[0m\u001b[0m_step_run_provider\u001b[0m\u001b[0;34m.\u001b[0m\u001b[0mget_output\u001b[0m\u001b[0;34m(\u001b[0m\u001b[0mself\u001b[0m\u001b[0;34m,\u001b[0m \u001b[0mself\u001b[0m\u001b[0;34m.\u001b[0m\u001b[0m_context\u001b[0m\u001b[0;34m,\u001b[0m \u001b[0mself\u001b[0m\u001b[0;34m.\u001b[0m\u001b[0m_pipeline_run_id\u001b[0m\u001b[0;34m,\u001b[0m \u001b[0mself\u001b[0m\u001b[0;34m.\u001b[0m\u001b[0m_node_id\u001b[0m\u001b[0;34m,\u001b[0m \u001b[0mname\u001b[0m\u001b[0;34m)\u001b[0m\u001b[0;34m\u001b[0m\u001b[0;34m\u001b[0m\u001b[0m\n\u001b[0m\u001b[1;32m    702\u001b[0m \u001b[0;34m\u001b[0m\u001b[0m\n\u001b[1;32m    703\u001b[0m     \u001b[0;32mdef\u001b[0m \u001b[0mget_output_data\u001b[0m\u001b[0;34m(\u001b[0m\u001b[0mself\u001b[0m\u001b[0;34m,\u001b[0m \u001b[0mname\u001b[0m\u001b[0;34m)\u001b[0m\u001b[0;34m:\u001b[0m\u001b[0;34m\u001b[0m\u001b[0;34m\u001b[0m\u001b[0m\n",
      "\u001b[0;32m/anaconda/envs/azureml_py36/lib/python3.6/site-packages/azureml/pipeline/core/_aeva_provider.py\u001b[0m in \u001b[0;36mget_output\u001b[0;34m(self, step_run, context, pipeline_run_id, node_id, name)\u001b[0m\n\u001b[1;32m   1247\u001b[0m         \"\"\"\n\u001b[1;32m   1248\u001b[0m         \u001b[0mnode_outputs\u001b[0m \u001b[0;34m=\u001b[0m \u001b[0mself\u001b[0m\u001b[0;34m.\u001b[0m\u001b[0m_service_caller\u001b[0m\u001b[0;34m.\u001b[0m\u001b[0mget_node_outputs_async\u001b[0m\u001b[0;34m(\u001b[0m\u001b[0mpipeline_run_id\u001b[0m\u001b[0;34m,\u001b[0m \u001b[0mnode_id\u001b[0m\u001b[0;34m)\u001b[0m\u001b[0;34m\u001b[0m\u001b[0;34m\u001b[0m\u001b[0m\n\u001b[0;32m-> 1249\u001b[0;31m         \u001b[0;32mreturn\u001b[0m \u001b[0mStepRunOutput\u001b[0m\u001b[0;34m(\u001b[0m\u001b[0mcontext\u001b[0m\u001b[0;34m,\u001b[0m \u001b[0mpipeline_run_id\u001b[0m\u001b[0;34m,\u001b[0m \u001b[0mstep_run\u001b[0m\u001b[0;34m,\u001b[0m \u001b[0mname\u001b[0m\u001b[0;34m,\u001b[0m \u001b[0mnode_outputs\u001b[0m\u001b[0;34m[\u001b[0m\u001b[0mname\u001b[0m\u001b[0;34m]\u001b[0m\u001b[0;34m)\u001b[0m\u001b[0;34m\u001b[0m\u001b[0;34m\u001b[0m\u001b[0m\n\u001b[0m\u001b[1;32m   1250\u001b[0m \u001b[0;34m\u001b[0m\u001b[0m\n\u001b[1;32m   1251\u001b[0m \u001b[0;34m\u001b[0m\u001b[0m\n",
      "\u001b[0;31mKeyError\u001b[0m: 'scores'"
     ]
    }
   ],
   "source": [
    "import pandas as pd\n",
    "\n",
    "batch_run = next(pipeline_run.get_children())\n",
    "batch_output = batch_run.get_output_data(\"scores\")\n",
    "batch_output.download(local_path=\"inception_results\")"
   ]
  },
  {
   "cell_type": "code",
   "execution_count": null,
   "metadata": {},
   "outputs": [],
   "source": [
    "import pandas as pd\n",
    "\n",
    "batch_run = next(pipeline_run.get_children())\n",
    "batch_output = batch_run.get_output_data(\"scores\")\n",
    "batch_output.download(local_path=\"inception_results\")\n",
    "\n",
    "for root, dirs, files in os.walk(\"inception_results\"):\n",
    "    for file in files:\n",
    "        if file.endswith(\"parallel_run_step.txt\"):\n",
    "            result_file = os.path.join(root, file)\n",
    "\n",
    "df = pd.read_csv(result_file, delimiter=\":\", header=None)\n",
    "df.columns = [\"Filename\", \"Prediction\"]\n",
    "print(\"Prediction has \", df.shape[0], \" rows\")\n",
    "df.head(10)"
   ]
  },
  {
   "cell_type": "code",
   "execution_count": null,
   "metadata": {},
   "outputs": [],
   "source": [
    "published_pipeline = pipeline_run.publish_pipeline(\n",
    "    name=\"Inception_v3_scoring\", description=\"Batch scoring using Inception v3 model\", version=\"1.0\")\n",
    "\n",
    "published_pipeline"
   ]
  }
 ],
 "metadata": {
  "kernelspec": {
   "display_name": "Python 3.6 - AzureML",
   "language": "python",
   "name": "python3-azureml"
  },
  "language_info": {
   "codemirror_mode": {
    "name": "ipython",
    "version": 3
   },
   "file_extension": ".py",
   "mimetype": "text/x-python",
   "name": "python",
   "nbconvert_exporter": "python",
   "pygments_lexer": "ipython3",
   "version": "3.6.9"
  }
 },
 "nbformat": 4,
 "nbformat_minor": 4
}
